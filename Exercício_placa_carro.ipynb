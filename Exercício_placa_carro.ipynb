{
 "cells": [
  {
   "cell_type": "markdown",
   "metadata": {},
   "source": [
    "### ENG639 – Processamento de Imagens Digitais\n",
    "#### UNIDADE 2 - SEMANA 5: Transformações Geométricas \n",
    "##### Exercício placa do carro:\n",
    "\n",
    "\n",
    "Guilhermi Martins Crispi 104178\n",
    "\n",
    "Ivaldo da Silva Tavares Júnior  95100"
   ]
  },
  {
   "cell_type": "markdown",
   "metadata": {},
   "source": [
    "p3.jpg"
   ]
  },
  {
   "cell_type": "code",
   "execution_count": 1,
   "metadata": {},
   "outputs": [],
   "source": [
    "import numpy as np\n",
    "import cv2\n",
    "\n",
    "P1 = np.float32 ([[645, 1379], [1455, 1363], [1525, 1859], [745, 1771]])\n",
    "P2 = np.float32([[88, 240], [1833, 239], [1834, 841], [89, 841]]) \n",
    "\n",
    "Im = cv2.imread('./p3.jpg')\n",
    "\n",
    "M = cv2.getPerspectiveTransform(P1,P2)\n",
    "IT = cv2.warpPerspective (Im,M,(1920, 1080))\n",
    "\n",
    "cv2.imshow ('Original', Im)\n",
    "cv2.imshow ('Placa', IT)\n",
    "\n",
    "\n",
    "cv2.waitKey (0)\n",
    "cv2.destroyAllWindows()"
   ]
  },
  {
   "cell_type": "code",
   "execution_count": 22,
   "metadata": {},
   "outputs": [
    {
     "name": "stdout",
     "output_type": "stream",
     "text": [
      "(557, 743, 3)\n",
      "(162, 288, 3)\n"
     ]
    }
   ],
   "source": [
    "# Diminuir a Resolução da Imagem: suficiente para o nosso exemplo\n",
    "\n",
    "Im1 = cv2.resize(Im,(0,0),fx=0.18, fy=0.18)\n",
    "Im2 = cv2.resize(IT, (0,0),fx=0.15, fy=0.15)\n",
    "\n",
    "print (Im1.shape)\n",
    "print (Im2.shape)\n",
    "\n",
    "cv2.imshow ('Original', Im1)\n",
    "cv2.imshow ('Placa', Im2)\n",
    "\n",
    "cv2.waitKey (0)\n",
    "cv2.destroyAllWindows()"
   ]
  },
  {
   "cell_type": "markdown",
   "metadata": {},
   "source": [
    "p4.jpg"
   ]
  },
  {
   "cell_type": "code",
   "execution_count": 18,
   "metadata": {},
   "outputs": [],
   "source": [
    "import numpy as np\n",
    "import cv2\n",
    "\n",
    "P1b = np.float32 ([[699, 947], [1405, 927], [1433, 1457], [737, 1361]])\n",
    "P2 = np.float32([[88, 240], [1833, 239], [1834, 841], [89, 841]]) \n",
    "\n",
    "Im = cv2.imread('./p4.jpg')\n",
    "\n",
    "M = cv2.getPerspectiveTransform(P1b,P2)\n",
    "IT = cv2.warpPerspective (Im,M,(1920, 1080))\n",
    "\n",
    "cv2.imshow ('Original', Im)\n",
    "cv2.imshow ('Placa', IT)\n",
    "\n",
    "cv2.waitKey (0)\n",
    "cv2.destroyAllWindows()"
   ]
  },
  {
   "cell_type": "markdown",
   "metadata": {},
   "source": [
    "p5.jpg"
   ]
  },
  {
   "cell_type": "code",
   "execution_count": 15,
   "metadata": {},
   "outputs": [],
   "source": [
    "import numpy as np\n",
    "import cv2\n",
    "\n",
    "P1c = np.float32 ([[1043, 725], [1475, 843], [1379, 1365], [989, 1113]])\n",
    "P2 = np.float32([[88, 240], [1833, 239], [1834, 841], [89, 841]]) \n",
    "\n",
    "Im = cv2.imread('./p5.jpg')\n",
    "\n",
    "M = cv2.getPerspectiveTransform(P1c,P2)\n",
    "IT = cv2.warpPerspective (Im,M,(1920, 1080))\n",
    "\n",
    "cv2.imshow ('Original', Im)\n",
    "cv2.imshow ('Placa', IT)\n",
    "\n",
    "cv2.waitKey (0)\n",
    "cv2.destroyAllWindows()"
   ]
  },
  {
   "cell_type": "markdown",
   "metadata": {},
   "source": [
    "p6.jpg"
   ]
  },
  {
   "cell_type": "code",
   "execution_count": 14,
   "metadata": {},
   "outputs": [],
   "source": [
    "import numpy as np\n",
    "import cv2\n",
    "\n",
    "P1d = np.float32 ([[649,847], [933, 1031], [859, 1421], [617, 1147]])\n",
    "P2 = np.float32([[88, 240], [1833, 239], [1834, 841], [89, 841]]) \n",
    "\n",
    "Im = cv2.imread('./p6.jpg')\n",
    "\n",
    "M = cv2.getPerspectiveTransform(P1d,P2)\n",
    "IT = cv2.warpPerspective (Im,M,(1920, 1080))\n",
    "\n",
    "cv2.imshow ('Original', Im)\n",
    "cv2.imshow ('Placa', IT)\n",
    "\n",
    "cv2.waitKey (0)\n",
    "cv2.destroyAllWindows()"
   ]
  },
  {
   "cell_type": "code",
   "execution_count": 10,
   "metadata": {},
   "outputs": [],
   "source": [
    "cv2.destroyAllWindows()"
   ]
  }
 ],
 "metadata": {
  "kernelspec": {
   "display_name": "Python 3",
   "language": "python",
   "name": "python3"
  },
  "language_info": {
   "codemirror_mode": {
    "name": "ipython",
    "version": 3
   },
   "file_extension": ".py",
   "mimetype": "text/x-python",
   "name": "python",
   "nbconvert_exporter": "python",
   "pygments_lexer": "ipython3",
   "version": "3.8.3"
  }
 },
 "nbformat": 4,
 "nbformat_minor": 4
}
